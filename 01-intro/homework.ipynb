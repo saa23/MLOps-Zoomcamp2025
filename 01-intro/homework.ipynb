{
 "cells": [
  {
   "cell_type": "markdown",
   "id": "235d4cf0",
   "metadata": {},
   "source": [
    "Dataset: \n",
    "- training set: https://d37ci6vzurychx.cloudfront.net/trip-data/yellow_tripdata_2024-01.parquet\n",
    "- validation set: https://d37ci6vzurychx.cloudfront.net/trip-data/yellow_tripdata_2024-02.parquet\n",
    "\n",
    "Homework: https://github.com/DataTalksClub/mlops-zoomcamp/blob/main/cohorts/2024/01-intro/homework.md"
   ]
  },
  {
   "cell_type": "code",
   "execution_count": 5,
   "id": "cca06aa3",
   "metadata": {},
   "outputs": [],
   "source": [
    "import pandas as pd\n",
    "import seaborn as sns\n",
    "import matplotlib.pyplot as plt\n",
    "\n",
    "from sklearn.feature_extraction import DictVectorizer\n",
    "from sklearn.linear_model import LinearRegression, Lasso, Ridge\n",
    "\n",
    "from sklearn.metrics import mean_squared_error\n",
    "\n",
    "import pickle"
   ]
  },
  {
   "cell_type": "code",
   "execution_count": 10,
   "id": "be34e6bd",
   "metadata": {
    "scrolled": true
   },
   "outputs": [],
   "source": [
    "# ! pip install pyarrow"
   ]
  },
  {
   "cell_type": "code",
   "execution_count": 9,
   "id": "16fc76a6",
   "metadata": {},
   "outputs": [],
   "source": [
    "### open parquet data directly from the url\n",
    "### dataset 2024\n",
    "# df_train = pd.read_parquet('https://d37ci6vzurychx.cloudfront.net/trip-data/yellow_tripdata_2024-01.parquet')\n",
    "# df_val = pd.read_parquet('https://d37ci6vzurychx.cloudfront.net/trip-data/yellow_tripdata_2024-02.parquet')\n",
    "\n",
    "### dataset 2023\n",
    "df_train = pd.read_parquet('https://d37ci6vzurychx.cloudfront.net/trip-data/yellow_tripdata_2023-01.parquet')\n",
    "df_val = pd.read_parquet('https://d37ci6vzurychx.cloudfront.net/trip-data/yellow_tripdata_2023-02.parquet')"
   ]
  },
  {
   "cell_type": "markdown",
   "id": "7beb5766",
   "metadata": {},
   "source": [
    "### Q1\n",
    "Download the data for January and February 2023.\n",
    "\n",
    "Read the data for January. How many columns are there?\n",
    "#### Answer: 19"
   ]
  },
  {
   "cell_type": "markdown",
   "id": "d994647e",
   "metadata": {},
   "source": [
    "#### Solution:"
   ]
  },
  {
   "cell_type": "code",
   "execution_count": 10,
   "id": "3ecfc170",
   "metadata": {},
   "outputs": [
    {
     "data": {
      "text/plain": [
       "(3066766, 19)"
      ]
     },
     "execution_count": 10,
     "metadata": {},
     "output_type": "execute_result"
    }
   ],
   "source": [
    "df_train.shape"
   ]
  },
  {
   "cell_type": "markdown",
   "id": "3d44dee4",
   "metadata": {},
   "source": [
    "### 2. Q2\n",
    "Now let's compute the `duration` variable. \n",
    "\n",
    "It should contain the duration of a ride in minutes.\n",
    "\n",
    "What's the standard deviation of the trips duration in January?\n",
    "#### Answer: 41.45"
   ]
  },
  {
   "cell_type": "markdown",
   "id": "07569a22",
   "metadata": {},
   "source": [
    "#### Solution:"
   ]
  },
  {
   "cell_type": "code",
   "execution_count": 11,
   "id": "53bfeca4",
   "metadata": {},
   "outputs": [
    {
     "data": {
      "text/plain": [
       "count    3.066766e+06\n",
       "mean     1.566900e+01\n",
       "std      4.259435e+01\n",
       "min     -2.920000e+01\n",
       "25%      7.116667e+00\n",
       "50%      1.151667e+01\n",
       "75%      1.830000e+01\n",
       "max      1.002918e+04\n",
       "Name: duration, dtype: float64"
      ]
     },
     "execution_count": 11,
     "metadata": {},
     "output_type": "execute_result"
    }
   ],
   "source": [
    "df_train['duration'] = df_train.tpep_dropoff_datetime - df_train.tpep_pickup_datetime\n",
    "df_train.duration = df_train['duration'].apply(lambda x: x.total_seconds() / 60)\n",
    "\n",
    "df_train['duration'].describe() "
   ]
  },
  {
   "cell_type": "code",
   "execution_count": 12,
   "id": "64b44b44",
   "metadata": {},
   "outputs": [
    {
     "data": {
      "text/plain": [
       "42.594351241920904"
      ]
     },
     "execution_count": 12,
     "metadata": {},
     "output_type": "execute_result"
    }
   ],
   "source": [
    "df_train['duration'].std()"
   ]
  },
  {
   "cell_type": "code",
   "execution_count": 13,
   "id": "9b16eb65",
   "metadata": {},
   "outputs": [
    {
     "data": {
      "text/plain": [
       "count    2.913955e+06\n",
       "mean     1.601591e+01\n",
       "std      4.284210e+01\n",
       "min     -4.361667e+01\n",
       "25%      7.250000e+00\n",
       "50%      1.180000e+01\n",
       "75%      1.876667e+01\n",
       "max      7.053617e+03\n",
       "Name: duration, dtype: float64"
      ]
     },
     "execution_count": 13,
     "metadata": {},
     "output_type": "execute_result"
    }
   ],
   "source": [
    "df_val['duration'] = df_val.tpep_dropoff_datetime - df_val.tpep_pickup_datetime\n",
    "df_val.duration = df_val['duration'].apply(lambda x: x.total_seconds() / 60)\n",
    "\n",
    "df_val['duration'].describe() "
   ]
  },
  {
   "cell_type": "code",
   "execution_count": 14,
   "id": "45bbd4b1",
   "metadata": {},
   "outputs": [
    {
     "data": {
      "text/plain": [
       "42.84210176105097"
      ]
     },
     "execution_count": 14,
     "metadata": {},
     "output_type": "execute_result"
    }
   ],
   "source": [
    "df_val['duration'].std()"
   ]
  },
  {
   "cell_type": "markdown",
   "id": "b447c484",
   "metadata": {},
   "source": [
    "### 3. Q3\n",
    "Next, we need to check the distribution of the duration variable. There are some outliers. Let's remove them and keep only the records where the duration was between 1 and 60 minutes (inclusive).\n",
    "\n",
    "What fraction of the records left after you dropped the outliers?\n",
    "#### Answer: 98%"
   ]
  },
  {
   "cell_type": "markdown",
   "id": "cb6160d2",
   "metadata": {},
   "source": [
    "#### Solution: "
   ]
  },
  {
   "cell_type": "code",
   "execution_count": 15,
   "id": "7fb7ee32",
   "metadata": {},
   "outputs": [
    {
     "data": {
      "text/plain": [
       "98.1220282212598"
      ]
     },
     "execution_count": 15,
     "metadata": {},
     "output_type": "execute_result"
    }
   ],
   "source": [
    "len_before = len(df_train)\n",
    "df_train = df_train[(df_train['duration'] >= 1) & (df_train['duration'] <= 60)]\n",
    "len_after = len(df_train)\n",
    "100*(len_after/len_before)"
   ]
  },
  {
   "cell_type": "code",
   "execution_count": 16,
   "id": "830689db",
   "metadata": {},
   "outputs": [],
   "source": [
    "df_val = df_val[(df_val['duration'] >= 1) & (df_val['duration'] <= 60)]"
   ]
  },
  {
   "cell_type": "markdown",
   "id": "1749649b",
   "metadata": {},
   "source": [
    "### 4. Q4\n",
    "Let's apply one-hot encoding to the pickup and dropoff location IDs. We'll use only these two features for our model.\n",
    "- Turn the dataframe into a list of dictionaries (remember to re-cast the ids to strings - otherwise it will label encode them)\n",
    "- Fit a dictionary vectorizer\n",
    "- Get a feature matrix from it\n",
    "\n",
    "What's the dimensionality of this matrix (number of columns)?\n",
    "#### Answer: 515"
   ]
  },
  {
   "cell_type": "markdown",
   "id": "f0cff04e",
   "metadata": {},
   "source": [
    "#### Solution:"
   ]
  },
  {
   "cell_type": "code",
   "execution_count": 17,
   "id": "ea4fec7c",
   "metadata": {},
   "outputs": [],
   "source": [
    "categorical = ['PULocationID', 'DOLocationID']\n",
    "df_train[categorical] = df_train[categorical].astype(str)\n",
    "df_val[categorical] = df_val[categorical].astype(str)"
   ]
  },
  {
   "cell_type": "code",
   "execution_count": 18,
   "id": "20678b5f",
   "metadata": {},
   "outputs": [],
   "source": [
    "df_train['PU_DO'] = df_train['PULocationID'] + '_' + df_train['DOLocationID']\n",
    "df_val['PU_DO'] = df_val['PULocationID'] + '_' + df_val['DOLocationID']"
   ]
  },
  {
   "cell_type": "code",
   "execution_count": 22,
   "id": "b977fbf7",
   "metadata": {},
   "outputs": [],
   "source": [
    "# categorical = ['PULocationID','DOLocationID']\n",
    "categorical = ['PU_DO']\n",
    "numerical = ['trip_distance']\n",
    "\n",
    "dv = DictVectorizer()\n",
    "\n",
    "train_dicts = df_train[categorical + numerical].to_dict(orient='records')\n",
    "X_train = dv.fit_transform(train_dicts)\n",
    "\n",
    "val_dicts = df_val[categorical + numerical].to_dict(orient='records')\n",
    "X_val = dv.transform(val_dicts)"
   ]
  },
  {
   "cell_type": "code",
   "execution_count": 23,
   "id": "84c19bc2",
   "metadata": {},
   "outputs": [
    {
     "data": {
      "text/plain": [
       "<3009173x21802 sparse matrix of type '<class 'numpy.float64'>'\n",
       "\twith 6018346 stored elements in Compressed Sparse Row format>"
      ]
     },
     "execution_count": 23,
     "metadata": {},
     "output_type": "execute_result"
    }
   ],
   "source": [
    "X_train"
   ]
  },
  {
   "cell_type": "code",
   "execution_count": 24,
   "id": "0d625a18",
   "metadata": {},
   "outputs": [
    {
     "data": {
      "text/plain": [
       "<2855951x21802 sparse matrix of type '<class 'numpy.float64'>'\n",
       "\twith 5704693 stored elements in Compressed Sparse Row format>"
      ]
     },
     "execution_count": 24,
     "metadata": {},
     "output_type": "execute_result"
    }
   ],
   "source": [
    "X_val"
   ]
  },
  {
   "cell_type": "markdown",
   "id": "cdd862dd",
   "metadata": {},
   "source": [
    "### 5. Q5\n",
    "Now let's use the feature matrix from the previous step to train a model.\n",
    "- Train a plain linear regression model with default parameters\n",
    "- Calculate the RMSE of the model on the training data\n",
    "\n",
    "What's the RMSE on train?\n",
    "#### Answer: 3.64"
   ]
  },
  {
   "cell_type": "markdown",
   "id": "841521c9",
   "metadata": {},
   "source": [
    "#### Solution:"
   ]
  },
  {
   "cell_type": "code",
   "execution_count": 25,
   "id": "c327b30a",
   "metadata": {},
   "outputs": [],
   "source": [
    "target = 'duration'\n",
    "y_train = df_train[target].values \n",
    "y_val = df_val[target].values "
   ]
  },
  {
   "cell_type": "code",
   "execution_count": 29,
   "id": "e7a2fac4",
   "metadata": {},
   "outputs": [
    {
     "data": {
      "text/plain": [
       "5.026784311948384"
      ]
     },
     "execution_count": 29,
     "metadata": {},
     "output_type": "execute_result"
    }
   ],
   "source": [
    "## model building (Linear Regression)\n",
    "\n",
    "lr = LinearRegression()\n",
    "lr.fit(X_train, y_train)  ### model training\n",
    "\n",
    "y_pred = lr.predict(X_train)   ### prediction inference\n",
    "\n",
    "## model evaluation\n",
    "mean_squared_error(y_train, y_pred, squared=False)  ### root mean square"
   ]
  },
  {
   "cell_type": "markdown",
   "id": "d27e07e5",
   "metadata": {},
   "source": [
    "### 6. Q6\n",
    "Now let's apply this model to the validation dataset (February 2023).\n",
    "\n",
    "What's the RMSE on validation?\n",
    "#### Answer: 7.81"
   ]
  },
  {
   "cell_type": "markdown",
   "id": "ae19279f",
   "metadata": {},
   "source": [
    "#### Solution:"
   ]
  },
  {
   "cell_type": "code",
   "execution_count": 30,
   "id": "fdc64d23",
   "metadata": {},
   "outputs": [
    {
     "data": {
      "text/plain": [
       "5.198299504452104"
      ]
     },
     "execution_count": 30,
     "metadata": {},
     "output_type": "execute_result"
    }
   ],
   "source": [
    "## model building (Linear Regression)\n",
    "\n",
    "lr = LinearRegression()\n",
    "lr.fit(X_train, y_train)  ### model training\n",
    "\n",
    "y_pred = lr.predict(X_val)   ### prediction inference\n",
    "\n",
    "## model evaluation\n",
    "mean_squared_error(y_val, y_pred, squared=False)  ### root mean square"
   ]
  },
  {
   "cell_type": "code",
   "execution_count": null,
   "id": "22d1cce3",
   "metadata": {},
   "outputs": [],
   "source": []
  }
 ],
 "metadata": {
  "kernelspec": {
   "display_name": "Python 3 (ipykernel)",
   "language": "python",
   "name": "python3"
  },
  "language_info": {
   "codemirror_mode": {
    "name": "ipython",
    "version": 3
   },
   "file_extension": ".py",
   "mimetype": "text/x-python",
   "name": "python",
   "nbconvert_exporter": "python",
   "pygments_lexer": "ipython3",
   "version": "3.9.12"
  }
 },
 "nbformat": 4,
 "nbformat_minor": 5
}
